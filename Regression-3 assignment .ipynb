{
 "cells": [
  {
   "cell_type": "markdown",
   "id": "5760faa4-6a64-445e-a236-3a0a8e2111ab",
   "metadata": {},
   "source": [
    "Q1. What is Ridge Regression, and how does it differ from ordinary least squares regression?"
   ]
  },
  {
   "cell_type": "markdown",
   "id": "6b8158cb-56fa-4ba8-b2c2-8d5287f32476",
   "metadata": {},
   "source": [
    "Ridge is a way in which we reduce the overfiting in mse ( Mean Square Error ) , and Ridge is also called (L2 Regularization)"
   ]
  },
  {
   "cell_type": "markdown",
   "id": "6e9d76ad-91dc-41b5-94df-0bccae926ada",
   "metadata": {},
   "source": [
    "by an estimator, called ridge estimator, that, albeit biased, has lower variance than the OLS estimator."
   ]
  },
  {
   "cell_type": "markdown",
   "id": "3c809c76-782c-4b05-b1f6-9a67029f631b",
   "metadata": {},
   "source": [
    "Q2. What are the assumptions of Ridge Regression?"
   ]
  },
  {
   "cell_type": "markdown",
   "id": "04b1ccd2-6489-4a83-aac1-cfa5e0b197bb",
   "metadata": {},
   "source": [
    "linearity, constant variance, and independence."
   ]
  },
  {
   "cell_type": "markdown",
   "id": "0964f0a0-ca30-4d61-a90a-52811f569dfe",
   "metadata": {},
   "source": [
    "Q3. How do you select the value of the tuning parameter (lambda) in Ridge Regression?"
   ]
  },
  {
   "cell_type": "markdown",
   "id": "bbe34f18-d857-4ba7-bc23-ab51a36d4000",
   "metadata": {},
   "source": [
    "If we choose λ equal to 0 , then there is no defference in overfitting , because λ is increasing than slope of global minima is also increases , If we want to reduce the overfitting we use the value of λ greater than zero (0)."
   ]
  },
  {
   "cell_type": "markdown",
   "id": "469cf1e9-8221-473d-81df-2700f2a36104",
   "metadata": {},
   "source": [
    "Q4. Can Ridge Regression be used for feature selection? If yes, how?"
   ]
  },
  {
   "cell_type": "markdown",
   "id": "a288afe0-1e3f-45cc-9824-32a4638f1ce6",
   "metadata": {},
   "source": [
    "Yes , Ridge Regression be used for feature selection \n",
    "\n",
    "How - If any feature in Dataset is like a outlier so , If we chosses that feature for model traning so that featuer can be lead to over fitting.\n",
    "\n",
    "If we already seen which is the outlier feature so it can be helpfull for overfitting , If we don't take than feature for modle traning so it's realy good for model accuracy."
   ]
  },
  {
   "cell_type": "markdown",
   "id": "9ababccf-d6f8-4a62-894e-18447831bc4e",
   "metadata": {},
   "source": [
    "Q5. How does the Ridge Regression model perform in the presence of multicollinearity?"
   ]
  },
  {
   "cell_type": "markdown",
   "id": "98b97ea1-4116-4cd4-9bef-889fe0833b7a",
   "metadata": {},
   "source": [
    "reducing the standard error by adding some bias in the estimates of the regression."
   ]
  },
  {
   "cell_type": "markdown",
   "id": "fc5759db-6182-4856-a431-200ea74b1c4e",
   "metadata": {},
   "source": [
    "Q6. Can Ridge Regression handle both categorical and continuous independent variables?"
   ]
  },
  {
   "cell_type": "markdown",
   "id": "22ebdd34-e663-42bc-a3df-29d092351b4d",
   "metadata": {},
   "source": [
    "Yes , we handle both categorical and continuous independent features."
   ]
  },
  {
   "cell_type": "markdown",
   "id": "cc214435-6a15-4430-b690-aa2a7d3f93a7",
   "metadata": {},
   "source": [
    "Q7. How do you interpret the coefficients of Ridge Regression?"
   ]
  },
  {
   "cell_type": "markdown",
   "id": "536f08c0-01b0-47f1-b226-f0f071b8c896",
   "metadata": {},
   "source": [
    "The coefficients of Ridge Regression represent the impact of each predictor variable on the target variable while controlling for multicollinearity and the impact of other predictor variables"
   ]
  },
  {
   "cell_type": "markdown",
   "id": "e8498674-2e12-4d01-b8f4-8a8499e123d8",
   "metadata": {},
   "source": [
    "Q8. Can Ridge Regression be used for time-series data analysis? If yes, how?"
   ]
  },
  {
   "cell_type": "markdown",
   "id": "826e041a-cace-4de1-a64d-6cf64f638f26",
   "metadata": {},
   "source": [
    "Yes, Ridge Regression can be used for time-series data analysis."
   ]
  },
  {
   "cell_type": "markdown",
   "id": "331b6653-97df-40d1-b5e5-9c5505ab4988",
   "metadata": {},
   "source": [
    "When using Ridge Regression for time-series data analysis, there are a few important considerations to keep in mind. Firstly, the time-series data needs to be appropriately structured so that it can be fed into the regression model. Typically, this involves converting the time-series data into a matrix of predictor variables and a vector of target variables."
   ]
  }
 ],
 "metadata": {
  "kernelspec": {
   "display_name": "Python 3 (ipykernel)",
   "language": "python",
   "name": "python3"
  },
  "language_info": {
   "codemirror_mode": {
    "name": "ipython",
    "version": 3
   },
   "file_extension": ".py",
   "mimetype": "text/x-python",
   "name": "python",
   "nbconvert_exporter": "python",
   "pygments_lexer": "ipython3",
   "version": "3.10.8"
  }
 },
 "nbformat": 4,
 "nbformat_minor": 5
}
